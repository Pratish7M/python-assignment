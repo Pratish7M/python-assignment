{
 "cells": [
  {
   "cell_type": "markdown",
   "id": "d2e3a7b8",
   "metadata": {},
   "source": [
    "# Data Science Masters Assignment"
   ]
  },
  {
   "cell_type": "markdown",
   "id": "fa14fbac",
   "metadata": {},
   "source": [
    "## Q1. What is the Probability Density Function (PDF)?\n",
    "The Probability Density Function (PDF) is a function that describes the likelihood of a random variable taking on a particular value. It is used in continuous probability distributions and is defined such that the area under the curve within a given range represents the probability of the variable falling within that range."
   ]
  },
  {
   "cell_type": "markdown",
   "id": "ce1be777",
   "metadata": {},
   "source": [
    "## Q2. What are the types of Probability Distributions?\n",
    "- **Discrete Probability Distributions**\n",
    "  - Binomial Distribution\n",
    "  - Poisson Distribution\n",
    "  - Geometric Distribution\n",
    "- **Continuous Probability Distributions**\n",
    "  - Normal Distribution\n",
    "  - Exponential Distribution\n",
    "  - Uniform Distribution"
   ]
  },
  {
   "cell_type": "markdown",
   "id": "c4027019",
   "metadata": {},
   "source": [
    "## Q3. Python function for the PDF of a normal distribution"
   ]
  },
  {
   "cell_type": "code",
   "execution_count": null,
   "id": "c8e5d754",
   "metadata": {},
   "outputs": [],
   "source": [
    "import scipy.stats as stats\n",
    "\n",
    "def normal_pdf(x, mean, std_dev):\n",
    "    return stats.norm.pdf(x, mean, std_dev)\n",
    "\n",
    "# Example usage:\n",
    "mean = 0\n",
    "std_dev = 1\n",
    "x = 1\n",
    "print(normal_pdf(x, mean, std_dev))"
   ]
  },
  {
   "cell_type": "markdown",
   "id": "19250941",
   "metadata": {},
   "source": [
    "## Q4. Properties of Binomial Distribution and Examples\n",
    "**Properties:**\n",
    "- Fixed number of trials (n)\n",
    "- Each trial has only two possible outcomes (success/failure)\n",
    "- Probability of success (p) is constant across trials\n",
    "- Trials are independent\n",
    "\n",
    "**Examples:**\n",
    "1. Number of heads in 10 coin flips\n",
    "2. Number of defective items in a batch of 100"
   ]
  },
  {
   "cell_type": "markdown",
   "id": "5ca2d69a",
   "metadata": {},
   "source": [
    "## Q5. Generate a random binomial sample and plot histogram"
   ]
  },
  {
   "cell_type": "code",
   "execution_count": null,
   "id": "eca25fba",
   "metadata": {},
   "outputs": [],
   "source": [
    "import numpy as np\n",
    "import matplotlib.pyplot as plt\n",
    "\n",
    "n = 10  # number of trials\n",
    "p = 0.4 # probability of success\n",
    "sample = np.random.binomial(n, p, 1000)\n",
    "\n",
    "plt.hist(sample, bins=10, edgecolor='black', alpha=0.7)\n",
    "plt.xlabel('Number of Successes')\n",
    "plt.ylabel('Frequency')\n",
    "plt.title('Histogram of Binomial Distribution')\n",
    "plt.show()"
   ]
  },
  {
   "cell_type": "markdown",
   "id": "09318045",
   "metadata": {},
   "source": [
    "## Q6. Python function for the CDF of a Poisson distribution"
   ]
  },
  {
   "cell_type": "code",
   "execution_count": null,
   "id": "1cd7c803",
   "metadata": {},
   "outputs": [],
   "source": [
    "import scipy.stats as stats\n",
    "\n",
    "def poisson_cdf(x, mean):\n",
    "    return stats.poisson.cdf(x, mean)\n",
    "\n",
    "# Example usage:\n",
    "mean = 5\n",
    "x = 3\n",
    "print(poisson_cdf(x, mean))"
   ]
  },
  {
   "cell_type": "markdown",
   "id": "90b0dd6a",
   "metadata": {},
   "source": [
    "## Q7. Differences between Binomial and Poisson Distribution\n",
    "- **Binomial Distribution:** Fixed trials (n), probability of success (p) is known.\n",
    "- **Poisson Distribution:** Counts occurrences over time/space, mean rate (λ) is known."
   ]
  },
  {
   "cell_type": "markdown",
   "id": "54a87ecf",
   "metadata": {},
   "source": [
    "## Q8. Generate a Poisson sample and calculate sample mean and variance"
   ]
  },
  {
   "cell_type": "code",
   "execution_count": null,
   "id": "854b4428",
   "metadata": {},
   "outputs": [],
   "source": [
    "sample = np.random.poisson(5, 1000)\n",
    "print(\"Sample Mean:\", np.mean(sample))\n",
    "print(\"Sample Variance:\", np.var(sample))"
   ]
  },
  {
   "cell_type": "markdown",
   "id": "a1468258",
   "metadata": {},
   "source": [
    "## Q9. Relationship between Mean and Variance in Distributions\n",
    "- **Binomial Distribution:** Mean = np, Variance = np(1-p)\n",
    "- **Poisson Distribution:** Mean = Variance = λ"
   ]
  },
  {
   "cell_type": "markdown",
   "id": "1b0d5e7d",
   "metadata": {},
   "source": [
    "## Q10. Where does the least frequent data appear in a normal distribution?\n",
    "The least frequent data appears in the **tails** of the distribution, farthest from the mean."
   ]
  }
 ],
 "metadata": {},
 "nbformat": 4,
 "nbformat_minor": 5
}
