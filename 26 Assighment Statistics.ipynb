{
 "cells": [
  {
   "cell_type": "markdown",
   "id": "dcfaf052",
   "metadata": {},
   "source": [
    "# Data Science Masters Assignment 3"
   ]
  },
  {
   "cell_type": "markdown",
   "id": "7120afbb",
   "metadata": {},
   "source": [
    "## Q1: What are the three measures of central tendency?\n",
    "The three measures of central tendency are:\n",
    "- **Mean**: The average of a dataset.\n",
    "- **Median**: The middle value of an ordered dataset.\n",
    "- **Mode**: The most frequently occurring value in a dataset."
   ]
  },
  {
   "cell_type": "markdown",
   "id": "bf99b7b9",
   "metadata": {},
   "source": [
    "## Q2: Difference between Mean, Median, and Mode\n",
    "- **Mean**: Sum of all values divided by the number of values. Used when data has no extreme values.\n",
    "- **Median**: Middle value of sorted data. Used when data has outliers.\n",
    "- **Mode**: Most common value. Used for categorical data.\n",
    "\n",
    "**Usage Example:**\n",
    "For a dataset of test scores: [70, 75, 80, 85, 85, 90]\n",
    "- Mean = (70+75+80+85+85+90)/6 = 80.83\n",
    "- Median = (80+85)/2 = 82.5\n",
    "- Mode = 85 (most frequent)."
   ]
  },
  {
   "cell_type": "markdown",
   "id": "87e3336f",
   "metadata": {},
   "source": [
    "## Q3: Calculate Mean, Median, and Mode for Given Data"
   ]
  },
  {
   "cell_type": "code",
   "execution_count": null,
   "id": "b01c08d3",
   "metadata": {},
   "outputs": [],
   "source": [
    "import numpy as np\n",
    "from scipy import stats\n",
    "\n",
    "data = [178,177,176,177,178.2,178,175,179,180,175,178.9,176.2,177,172.5,178,176.5]\n",
    "mean = np.mean(data)\n",
    "median = np.median(data)\n",
    "mode = stats.mode(data).mode[0]\n",
    "print(f'Mean: {mean}')\n",
    "print(f'Median: {median}')\n",
    "print(f'Mode: {mode}')"
   ]
  },
  {
   "cell_type": "markdown",
   "id": "505e622e",
   "metadata": {},
   "source": [
    "## Q4: Calculate Standard Deviation for Given Data"
   ]
  },
  {
   "cell_type": "code",
   "execution_count": null,
   "id": "70d9d56a",
   "metadata": {},
   "outputs": [],
   "source": [
    "std_dev = np.std(data, ddof=1)  # ddof=1 for sample standard deviation\n",
    "print(f'Standard Deviation: {std_dev}')"
   ]
  },
  {
   "cell_type": "markdown",
   "id": "88f7cd7b",
   "metadata": {},
   "source": [
    "## Q5: Measures of Dispersion (Range, Variance, Standard Deviation)\n",
    "- **Range**: Difference between max and min value.\n",
    "- **Variance**: Average squared deviation from the mean.\n",
    "- **Standard Deviation**: Square root of variance.\n",
    "\n",
    "**Example:**\n",
    "For data: [5, 10, 15, 20, 25]\n",
    "- Range = 25 - 5 = 20\n",
    "- Variance = 50\n",
    "- Standard Deviation = 7.07"
   ]
  },
  {
   "cell_type": "markdown",
   "id": "a8ca0cf9",
   "metadata": {},
   "source": [
    "## Q6: What is a Venn Diagram?\n",
    "A **Venn Diagram** is a visual representation of mathematical sets, showing relationships like intersections and unions."
   ]
  },
  {
   "cell_type": "markdown",
   "id": "f2a25f38",
   "metadata": {},
   "source": [
    "## Q7: Set Operations on A and B\n",
    "**Given Sets:**\n",
    "- A = {2,3,4,5,6,7}\n",
    "- B = {0,2,6,8,10}\n",
    "\n",
    "**(i) A ∩ B (Intersection):** Common elements in both sets.\n",
    "**(ii) A ∪ B (Union):** All unique elements from both sets."
   ]
  },
  {
   "cell_type": "code",
   "execution_count": null,
   "id": "52319706",
   "metadata": {},
   "outputs": [],
   "source": [
    "A = {2,3,4,5,6,7}\n",
    "B = {0,2,6,8,10}\n",
    "intersection = A.intersection(B)\n",
    "union = A.union(B)\n",
    "print(f'Intersection: {intersection}')\n",
    "print(f'Union: {union}')"
   ]
  },
  {
   "cell_type": "markdown",
   "id": "832b831f",
   "metadata": {},
   "source": [
    "## Q8: Understanding Skewness in Data\n",
    "Skewness measures the asymmetry of a distribution:\n",
    "- **Positive Skew (Right-skewed):** Tail on the right.\n",
    "- **Negative Skew (Left-skewed):** Tail on the left.\n",
    "- **Zero Skew (Symmetric):** Bell-shaped distribution."
   ]
  },
  {
   "cell_type": "markdown",
   "id": "177db5d0",
   "metadata": {},
   "source": [
    "## Q9: Median Position in Right-Skewed Data\n",
    "In a **right-skewed** distribution:\n",
    "- Mean > Median > Mode."
   ]
  },
  {
   "cell_type": "markdown",
   "id": "dc70aae2",
   "metadata": {},
   "source": [
    "## Q10: Covariance vs Correlation\n",
    "- **Covariance:** Measures the direction of the relationship between two variables.\n",
    "- **Correlation:** Measures both the direction and strength (scaled between -1 and 1).\n",
    "\n",
    "**Usage:**\n",
    "- Covariance shows whether variables move together.\n",
    "- Correlation quantifies the strength of this relationship."
   ]
  },
  {
   "cell_type": "markdown",
   "id": "e26cf298",
   "metadata": {},
   "source": [
    "## Q11: Formula for Sample Mean\n",
    "\\[ \\bar{x} = \\frac{\\sum x_i}{n} \\]\n",
    "Example: For [5,10,15], Mean = (5+10+15)/3 = 10"
   ]
  },
  {
   "cell_type": "code",
   "execution_count": null,
   "id": "36582084",
   "metadata": {},
   "outputs": [],
   "source": [
    "data_sample = [5,10,15]\n",
    "mean_sample = np.mean(data_sample)\n",
    "print(f'Sample Mean: {mean_sample}')"
   ]
  },
  {
   "cell_type": "markdown",
   "id": "f8a942ec",
   "metadata": {},
   "source": [
    "## Q12: Relationship between Measures of Central Tendency in Normal Distribution\n",
    "- Mean = Median = Mode in a perfectly normal distribution."
   ]
  },
  {
   "cell_type": "markdown",
   "id": "cfd44ae3",
   "metadata": {},
   "source": [
    "## Q13: Difference Between Covariance and Correlation\n",
    "- **Covariance** is unbounded, while **Correlation** is standardized (-1 to 1)."
   ]
  },
  {
   "cell_type": "markdown",
   "id": "b3cf1442",
   "metadata": {},
   "source": [
    "## Q14: Effect of Outliers on Central Tendency and Dispersion\n",
    "- **Mean** is highly affected by outliers.\n",
    "- **Median** is more robust against outliers.\n",
    "- **Standard Deviation** increases with extreme values.\n",
    "\n",
    "**Example:**\n",
    "Data: [10, 20, 30, 40, 50] → Mean = 30\n",
    "Adding an outlier (300): [10, 20, 30, 40, 50, 300] → Mean = 75"
   ]
  }
 ],
 "metadata": {},
 "nbformat": 4,
 "nbformat_minor": 5
}
