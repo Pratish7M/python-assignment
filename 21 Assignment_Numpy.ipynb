{
 "cells": [
  {
   "cell_type": "markdown",
   "metadata": {},
   "source": [
    "Q1. Is there any difference in the data type of variables list_ and array_list? If there is then write a code\n",
    "to print the data types of both the variables."
   ]
  },
  {
   "cell_type": "code",
   "execution_count": 13,
   "metadata": {},
   "outputs": [
    {
     "name": "stdout",
     "output_type": "stream",
     "text": [
      "Data type of list_: <class 'list'>\n",
      "Data type of array_list: <class 'numpy.ndarray'>\n"
     ]
    },
    {
     "data": {
      "text/plain": [
       "'In Python, list_ would typically be a standard Python list, while array_list would be a NumPy array.'"
      ]
     },
     "execution_count": 13,
     "metadata": {},
     "output_type": "execute_result"
    }
   ],
   "source": [
    "import numpy as np\n",
    "\n",
    "# Define a standard Python list\n",
    "varible_list = [1, 2, 3, 4, 5]\n",
    "\n",
    "# Define a NumPy array\n",
    "array_list = np.array([1, 2, 3, 4, 5])\n",
    "\n",
    "# Print the data types of both variables\n",
    "print(\"Data type of list_:\", type(varible_list))\n",
    "print(\"Data type of array_list:\", type(array_list))\n",
    "\n",
    "'''In Python, list_ would typically be a standard Python list, while array_list would be a NumPy array.'''\n"
   ]
  },
  {
   "cell_type": "markdown",
   "metadata": {},
   "source": [
    "Q2. Write a code to print the data type of each and every element of both the variables list_ and\n",
    "arra_list.\n"
   ]
  },
  {
   "cell_type": "code",
   "execution_count": 14,
   "metadata": {},
   "outputs": [
    {
     "name": "stdout",
     "output_type": "stream",
     "text": [
      "<class 'int'>\n",
      "<class 'int'>\n",
      "<class 'int'>\n",
      "<class 'int'>\n",
      "<class 'int'>\n",
      "<class 'numpy.int32'>\n",
      "<class 'numpy.int32'>\n",
      "<class 'numpy.int32'>\n",
      "<class 'numpy.int32'>\n",
      "<class 'numpy.int32'>\n"
     ]
    }
   ],
   "source": [
    "for i in varible_list :\n",
    "    print(type(i))\n",
    "\n",
    "for i in array_list:\n",
    "    print(type(i))"
   ]
  },
  {
   "cell_type": "code",
   "execution_count": 15,
   "metadata": {},
   "outputs": [
    {
     "name": "stdout",
     "output_type": "stream",
     "text": [
      "Data types of elements in list_:\n",
      "Element: 1, Type: <class 'int'>\n",
      "Element: 2, Type: <class 'int'>\n",
      "Element: 3, Type: <class 'int'>\n",
      "Element: 4, Type: <class 'int'>\n",
      "Element: 5, Type: <class 'int'>\n",
      "Element: 6, Type: <class 'int'>\n",
      "\n",
      "Data types of elements in array_list:\n",
      "Element: 1, Type: <class 'numpy.int32'>\n",
      "Element: 2, Type: <class 'numpy.int32'>\n",
      "Element: 3, Type: <class 'numpy.int32'>\n",
      "Element: 4, Type: <class 'numpy.int32'>\n",
      "Element: 5, Type: <class 'numpy.int32'>\n",
      "Element: 6, Type: <class 'numpy.int32'>\n",
      "\n",
      "Data types of elements in num_array:\n",
      "Element: 1, Type: <class 'numpy.int32'>\n",
      "Element: 2, Type: <class 'numpy.int32'>\n",
      "Element: 3, Type: <class 'numpy.int32'>\n",
      "Element: 4, Type: <class 'numpy.int32'>\n",
      "Element: 5, Type: <class 'numpy.int32'>\n",
      "Element: 6, Type: <class 'numpy.int32'>\n"
     ]
    }
   ],
   "source": [
    "\n",
    "'''#Q3. Considering the following changes in the variable, array_list:\n",
    "array_list = np.array(object = list_, dtype = int)\n",
    "Will there be any difference in the data type of the elements present in both the variables, list_ and\n",
    "arra_list? If so then print the data types of each and every element present in both the variables, list_\n",
    "and arra_list.\n",
    "#Consider the below code to answer further questions:\n",
    "import numpy as np\n",
    "num_list = [ [ 1 , 2 , 3 ] , [ 4 , 5 , 6 ] ]\n",
    "num_array = np.array(object = num_list)'''\n",
    "\n",
    "import numpy as np\n",
    "\n",
    "\n",
    "# Define a standard Python list of integers\n",
    "list_ = [1, 2, 3, 4, 5, 6]\n",
    "\n",
    "# Create a NumPy array from the list with dtype=int\n",
    "array_list = np.array(object=list_, dtype=int)\n",
    "\n",
    "# Define a list of lists\n",
    "num_list = [[1, 2, 3], [4, 5, 6]]\n",
    "\n",
    "# Create a NumPy array from the list of lists\n",
    "num_array = np.array(object=num_list)\n",
    "\n",
    "# Print the data type of each element in the Python list\n",
    "print(\"Data types of elements in list_:\")\n",
    "for element in list_:\n",
    "    print(f\"Element: {element}, Type: {type(element)}\")\n",
    "\n",
    "# Print the data type of each element in the NumPy array with dtype=int\n",
    "print(\"\\nData types of elements in array_list:\")\n",
    "for element in array_list:\n",
    "    print(f\"Element: {element}, Type: {type(element)}\")\n",
    "\n",
    "# Print the data type of each element in the NumPy array created from list of lists\n",
    "print(\"\\nData types of elements in num_array:\")\n",
    "for subarray in num_array:\n",
    "    for element in subarray:\n",
    "        print(f\"Element: {element}, Type: {type(element)}\")\n",
    "\n"
   ]
  },
  {
   "cell_type": "code",
   "execution_count": 18,
   "metadata": {},
   "outputs": [
    {
     "name": "stdout",
     "output_type": "stream",
     "text": [
      " size = 6 , shape = (2, 3)\n"
     ]
    }
   ],
   "source": [
    "'''Q4. Write a code to find the following characteristics of variable, num_array:\n",
    "(i) shape\n",
    "(ii) size'''\n",
    "\n",
    "shape = np.shape(num_array)\n",
    "size = np.size(num_array)\n",
    "\n",
    "print(f\" size = {size} , shape = {shape}\")"
   ]
  },
  {
   "cell_type": "code",
   "execution_count": 19,
   "metadata": {},
   "outputs": [
    {
     "data": {
      "text/plain": [
       "array([[0., 0., 0.],\n",
       "       [0., 0., 0.],\n",
       "       [0., 0., 0.]])"
      ]
     },
     "execution_count": 19,
     "metadata": {},
     "output_type": "execute_result"
    }
   ],
   "source": [
    "'''Q5. Write a code to create numpy array of 3*3 matrix containing zeros only, using a numpy array\n",
    "creation function.\n",
    "[Hint: The size of the array will be 9 and the shape will be (3,3).]'''\n",
    "\n",
    "array = np.zeros([3,3])\n",
    "array"
   ]
  },
  {
   "cell_type": "code",
   "execution_count": 37,
   "metadata": {},
   "outputs": [
    {
     "name": "stdout",
     "output_type": "stream",
     "text": [
      "[[5]]\n"
     ]
    },
    {
     "data": {
      "text/plain": [
       "matrix([[1., 0., 0., 0., 0.],\n",
       "        [0., 1., 0., 0., 0.],\n",
       "        [0., 0., 1., 0., 0.],\n",
       "        [0., 0., 0., 1., 0.],\n",
       "        [0., 0., 0., 0., 1.]])"
      ]
     },
     "execution_count": 37,
     "metadata": {},
     "output_type": "execute_result"
    }
   ],
   "source": [
    "'''Q6. Create an identity matrix of shape (5,5) using numpy functions?\n",
    "[Hint: An identity matrix is a matrix containing 1 diagonally and other elements will be 0.]'''\n",
    "\n",
    "import numpy.matlib as nm\n",
    "\n",
    "array = nm.diag([5])\n",
    "print(array)\n",
    "\n",
    "array = nm.eye(5)\n",
    "array"
   ]
  },
  {
   "cell_type": "code",
   "execution_count": null,
   "metadata": {},
   "outputs": [],
   "source": []
  }
 ],
 "metadata": {
  "kernelspec": {
   "display_name": "Python 3",
   "language": "python",
   "name": "python3"
  },
  "language_info": {
   "codemirror_mode": {
    "name": "ipython",
    "version": 3
   },
   "file_extension": ".py",
   "mimetype": "text/x-python",
   "name": "python",
   "nbconvert_exporter": "python",
   "pygments_lexer": "ipython3",
   "version": "3.11.2"
  }
 },
 "nbformat": 4,
 "nbformat_minor": 2
}
