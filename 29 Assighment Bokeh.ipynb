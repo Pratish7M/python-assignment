{
 "cells": [
  {
   "cell_type": "markdown",
   "id": "949d9cc3",
   "metadata": {},
   "source": [
    "# AI, ML, DL, and Learning Techniques"
   ]
  },
  {
   "cell_type": "markdown",
   "id": "361bfba1",
   "metadata": {},
   "source": [
    "## Q1: Explanation of AI, ML, and DL"
   ]
  },
  {
   "cell_type": "code",
   "execution_count": null,
   "id": "63952ff4",
   "metadata": {},
   "outputs": [],
   "source": [
    "\n",
    "# Artificial Intelligence (AI)\n",
    "# AI is a broad field that enables machines to mimic human intelligence.\n",
    "# Example: A chatbot that answers customer queries.\n",
    "\n",
    "# Machine Learning (ML)\n",
    "# ML is a subset of AI that allows systems to learn from data and improve over time.\n",
    "# Example: Email spam detection.\n",
    "\n",
    "# Deep Learning (DL)\n",
    "# DL is a subset of ML that uses neural networks to model complex patterns in data.\n",
    "# Example: Image recognition in self-driving cars.\n"
   ]
  },
  {
   "cell_type": "markdown",
   "id": "39d7a433",
   "metadata": {},
   "source": [
    "## Q2: Supervised Learning with Examples"
   ]
  },
  {
   "cell_type": "code",
   "execution_count": null,
   "id": "79a3f7b2",
   "metadata": {},
   "outputs": [],
   "source": [
    "\n",
    "# Supervised learning is a type of ML where the model is trained on labeled data.\n",
    "examples = [\n",
    "    \"Linear Regression\",\n",
    "    \"Logistic Regression\",\n",
    "    \"Decision Trees\",\n",
    "    \"Support Vector Machines (SVM)\",\n",
    "    \"Neural Networks\"\n",
    "]\n",
    "print(\"Examples of Supervised Learning:\", examples)\n"
   ]
  },
  {
   "cell_type": "markdown",
   "id": "d67fede1",
   "metadata": {},
   "source": [
    "## Q3: Unsupervised Learning with Examples"
   ]
  },
  {
   "cell_type": "code",
   "execution_count": null,
   "id": "c8ca89a9",
   "metadata": {},
   "outputs": [],
   "source": [
    "\n",
    "# Unsupervised learning is a type of ML where the model is trained on unlabeled data.\n",
    "examples = [\n",
    "    \"K-Means Clustering\",\n",
    "    \"Hierarchical Clustering\",\n",
    "    \"Principal Component Analysis (PCA)\",\n",
    "    \"Autoencoders\",\n",
    "    \"Gaussian Mixture Models\"\n",
    "]\n",
    "print(\"Examples of Unsupervised Learning:\", examples)\n"
   ]
  },
  {
   "cell_type": "markdown",
   "id": "51e7c3a5",
   "metadata": {},
   "source": [
    "## Q4: Difference between AI, ML, DL, and DS"
   ]
  },
  {
   "cell_type": "code",
   "execution_count": null,
   "id": "1dc996cd",
   "metadata": {},
   "outputs": [],
   "source": [
    "\n",
    "differences = {\n",
    "    \"AI\": \"Encompasses all techniques that enable machines to act intelligently.\",\n",
    "    \"ML\": \"Subset of AI that learns patterns from data.\",\n",
    "    \"DL\": \"Subset of ML using deep neural networks.\",\n",
    "    \"DS\": \"Involves data processing, analysis, and visualization, often using AI/ML.\"\n",
    "}\n",
    "for key, value in differences.items():\n",
    "    print(f\"{key}: {value}\")\n"
   ]
  },
  {
   "cell_type": "markdown",
   "id": "e6fe8582",
   "metadata": {},
   "source": [
    "## Q5: Difference between Supervised, Unsupervised, and Semi-supervised Learning"
   ]
  },
  {
   "cell_type": "code",
   "execution_count": null,
   "id": "5e06e9f9",
   "metadata": {},
   "outputs": [],
   "source": [
    "\n",
    "differences = {\n",
    "    \"Supervised Learning\": \"Labeled data, clear output (e.g., classification, regression).\",\n",
    "    \"Unsupervised Learning\": \"No labeled data, finds patterns (e.g., clustering, association).\",\n",
    "    \"Semi-supervised Learning\": \"Uses a mix of labeled and unlabeled data.\"\n",
    "}\n",
    "for key, value in differences.items():\n",
    "    print(f\"{key}: {value}\")\n"
   ]
  },
  {
   "cell_type": "markdown",
   "id": "7bdb2fc0",
   "metadata": {},
   "source": [
    "## Q6: Train, Test, and Validation Split"
   ]
  },
  {
   "cell_type": "code",
   "execution_count": null,
   "id": "8357bc8a",
   "metadata": {},
   "outputs": [],
   "source": [
    "\n",
    "split_definitions = {\n",
    "    \"Training Set\": \"Used to train the model.\",\n",
    "    \"Validation Set\": \"Used for hyperparameter tuning.\",\n",
    "    \"Test Set\": \"Used to evaluate final model performance.\"\n",
    "}\n",
    "for key, value in split_definitions.items():\n",
    "    print(f\"{key}: {value}\")\n"
   ]
  },
  {
   "cell_type": "markdown",
   "id": "b11cd1f3",
   "metadata": {},
   "source": [
    "## Q7: Unsupervised Learning in Anomaly Detection"
   ]
  },
  {
   "cell_type": "code",
   "execution_count": null,
   "id": "13abac48",
   "metadata": {},
   "outputs": [],
   "source": [
    "\n",
    "# Unsupervised learning can identify anomalies by detecting patterns that deviate from the norm.\n",
    "# Example: Using clustering to detect fraudulent transactions.\n",
    "\n",
    "print(\"Unsupervised learning is widely used in anomaly detection by identifying deviations in data patterns.\")\n"
   ]
  },
  {
   "cell_type": "markdown",
   "id": "ac57272b",
   "metadata": {},
   "source": [
    "## Q8: Commonly Used Supervised and Unsupervised Learning Algorithms"
   ]
  },
  {
   "cell_type": "code",
   "execution_count": null,
   "id": "534986ce",
   "metadata": {},
   "outputs": [],
   "source": [
    "\n",
    "supervised_algorithms = [\n",
    "    \"Linear Regression\", \"Logistic Regression\", \"Random Forest\", \"XGBoost\", \"SVM\"\n",
    "]\n",
    "unsupervised_algorithms = [\n",
    "    \"K-Means Clustering\", \"DBSCAN\", \"PCA\", \"Autoencoders\", \"Gaussian Mixture Models\"\n",
    "]\n",
    "\n",
    "print(\"Supervised Learning Algorithms:\", supervised_algorithms)\n",
    "print(\"Unsupervised Learning Algorithms:\", unsupervised_algorithms)\n"
   ]
  }
 ],
 "metadata": {},
 "nbformat": 4,
 "nbformat_minor": 5
}
