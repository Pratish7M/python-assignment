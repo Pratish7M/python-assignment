{
 "cells": [
  {
   "cell_type": "code",
   "execution_count": 1,
   "metadata": {},
   "outputs": [
    {
     "name": "stdout",
     "output_type": "stream",
     "text": [
      "DataFrame created using read_csv():\n",
      "      Name  Age  Fare\n",
      "0    Alice   25  72.5\n",
      "1      Bob   30  80.0\n",
      "2  Charlie   35  50.0\n",
      "\n",
      "First 2 rows using head():\n",
      "    Name  Age  Fare\n",
      "0  Alice   25  72.5\n",
      "1    Bob   30  80.0\n",
      "\n",
      "Descriptive statistics using describe():\n",
      "        Age       Fare\n",
      "count   3.0   3.000000\n",
      "mean   30.0  67.500000\n",
      "std     5.0  15.612495\n",
      "min    25.0  50.000000\n",
      "25%    27.5  61.250000\n",
      "50%    30.0  72.500000\n",
      "75%    32.5  76.250000\n",
      "max    35.0  80.000000\n",
      "\n",
      "Grouped by 'Age' and mean 'Fare' using groupby():\n",
      "Age\n",
      "25    72.5\n",
      "30    80.0\n",
      "35    50.0\n",
      "Name: Fare, dtype: float64\n",
      "\n",
      "Merged DataFrame using merge():\n",
      "      Name  Age  Fare         City\n",
      "0    Alice   25  72.5     New York\n",
      "1      Bob   30  80.0  Los Angeles\n",
      "2  Charlie   35  50.0      Chicago\n"
     ]
    }
   ],
   "source": [
    "'''Q1. List any five functions of the pandas library with execution.'''\n",
    "\n",
    "import pandas as pd\n",
    "from io import StringIO\n",
    "\n",
    "# Sample CSV data\n",
    "csv_data = \"\"\"Name,Age,Fare\n",
    "Alice,25,72.5\n",
    "Bob,30,80.0\n",
    "Charlie,35,50.0\"\"\"\n",
    "\n",
    "# Using StringIO to simulate a file-like object\n",
    "csv_file_like = StringIO(csv_data)\n",
    "\n",
    "# 1. Reading the CSV data into a DataFrame\n",
    "df = pd.read_csv(csv_file_like)\n",
    "print(\"DataFrame created using read_csv():\")\n",
    "print(df)\n",
    "\n",
    "# 2. Displaying the first 2 rows of the DataFrame\n",
    "print(\"\\nFirst 2 rows using head():\")\n",
    "print(df.head(2))\n",
    "\n",
    "# 3. Generating descriptive statistics\n",
    "print(\"\\nDescriptive statistics using describe():\")\n",
    "print(df.describe())\n",
    "\n",
    "# 4. Grouping by 'Age' and calculating the mean fare\n",
    "grouped = df.groupby('Age')['Fare'].mean()\n",
    "print(\"\\nGrouped by 'Age' and mean 'Fare' using groupby():\")\n",
    "print(grouped)\n",
    "\n",
    "# Sample data for another DataFrame\n",
    "data2 = {\n",
    "    'Name': ['Alice', 'Bob', 'Charlie'],\n",
    "    'City': ['New York', 'Los Angeles', 'Chicago']\n",
    "}\n",
    "\n",
    "df2 = pd.DataFrame(data2)\n",
    "\n",
    "# 5. Merging the two DataFrames on the 'Name' column\n",
    "merged_df = pd.merge(df, df2, on='Name')\n",
    "print(\"\\nMerged DataFrame using merge():\")\n",
    "print(merged_df)\n"
   ]
  },
  {
   "cell_type": "code",
   "execution_count": 3,
   "metadata": {},
   "outputs": [
    {
     "name": "stdout",
     "output_type": "stream",
     "text": [
      "Original DataFrame:\n",
      "    A    B    C\n",
      "0  10   60  110\n",
      "1  20   70  120\n",
      "2  30   80  130\n",
      "3  40   90  140\n",
      "4  50  100  150\n",
      "    A    B    C\n",
      "1  10   60  110\n",
      "3  20   70  120\n",
      "5  30   80  130\n",
      "7  40   90  140\n",
      "9  50  100  150\n",
      "    A    B    C\n",
      "1  10   60  110\n",
      "3  20   70  120\n",
      "5  30   80  130\n",
      "7  40   90  140\n",
      "9  50  100  150\n"
     ]
    }
   ],
   "source": [
    "'''Q2. Given a Pandas DataFrame df with columns 'A', 'B', and 'C', write a Python function to re-index the\n",
    "DataFrame with a new index that starts from 1 and increments by 2 for each row.'''\n",
    "\n",
    "\n",
    "#  Sample DataFrame\n",
    "data = {\n",
    "    'A': [10, 20, 30, 40, 50],\n",
    "    'B': [60, 70, 80, 90, 100],\n",
    "    'C': [110, 120, 130, 140, 150]\n",
    "}\n",
    "\n",
    "df = pd.DataFrame(data)\n",
    "print(\"Original DataFrame:\")\n",
    "print(df)\n",
    "\n",
    "\n",
    "# new_index = range(1, 2 * len(df)+1 ,2)\n",
    "\n",
    "# df.index = new_index\n",
    "# print(\"after reindexing : \" , df)\n",
    "\n",
    "\n",
    "def reindex_dataframe(df) :\n",
    "    new_index = range(1, 2 * len(df)+1 ,2)\n",
    "    df.index = new_index\n",
    "    return df\n",
    "\n",
    "reindex = reindex_dataframe(df)\n",
    "print(reindex)\n",
    "\n",
    "print(df)\n",
    "\n",
    "\n"
   ]
  },
  {
   "cell_type": "code",
   "execution_count": 17,
   "metadata": {},
   "outputs": [
    {
     "name": "stdout",
     "output_type": "stream",
     "text": [
      "   values\n",
      "0      10\n",
      "1      20\n",
      "2      30\n",
      "3      40\n",
      "4      50\n",
      "<function sumOfFirstThree at 0x00000277CE755A80>\n"
     ]
    }
   ],
   "source": [
    "'''Q3. You have a Pandas DataFrame df with a column named 'Values'. Write a Python function that\n",
    "iterates over the DataFrame and calculates the sum of the first three values in the 'Values' column. The\n",
    "function should print the sum to the console.'''\n",
    "\n",
    "data = {\n",
    "    \"values\" : [10,20,30,40,50]\n",
    "}\n",
    "df = pd.DataFrame(data)\n",
    "print(df)\n",
    "\n",
    "def sumOfFirstThree(df):\n",
    "    sum = 0\n",
    "    for i in range(0,3):\n",
    "        x = df[\"values\"].values[i]  #you can use iloc insted of values\n",
    "        sum = x + sum\n",
    "    return sum\n",
    "\n",
    "return_sum = sumOfFirstThree(df)\n",
    "print(\"\\n the sum of first three numbers  :\",return_sum)\n"
   ]
  },
  {
   "cell_type": "code",
   "execution_count": 15,
   "metadata": {},
   "outputs": [
    {
     "name": "stdout",
     "output_type": "stream",
     "text": [
      "         values\n",
      "0       pratish\n",
      "1  yash,pratish\n",
      "2    john,nancy\n"
     ]
    }
   ],
   "source": [
    "data = {\n",
    "    \"values\" : [\"pratish\",\"yash,pratish\",\"john,nancy\"]\n",
    "}\n",
    "df = pd.DataFrame(data)\n",
    "print(df)\n"
   ]
  },
  {
   "cell_type": "code",
   "execution_count": 18,
   "metadata": {},
   "outputs": [
    {
     "name": "stdout",
     "output_type": "stream",
     "text": [
      "Original DataFrame:\n",
      "                  Text\n",
      "0          Hello world\n",
      "1       This is a test\n",
      "2      Pandas is great\n",
      "3  Data Science is fun\n",
      "\n",
      "DataFrame with 'Word_Count' column:\n",
      "                  Text  Word_Count\n",
      "0          Hello world           2\n",
      "1       This is a test           4\n",
      "2      Pandas is great           3\n",
      "3  Data Science is fun           4\n",
      "                  Text  new_column\n",
      "0          Hello world           2\n",
      "1       This is a test           4\n",
      "2      Pandas is great           3\n",
      "3  Data Science is fun           4\n"
     ]
    }
   ],
   "source": [
    "'''Q4. Given a Pandas DataFrame df with a column 'Text', write a Python function to create a new column\n",
    "'Word_Count' that contains the number of words in each row of the 'Text' column.'''\n",
    "\n",
    "import pandas as pd\n",
    "\n",
    "# Sample DataFrame\n",
    "data = {\n",
    "    'Text': ['Hello world', 'This is a test', 'Pandas is great', 'Data Science is fun']\n",
    "}\n",
    "\n",
    "df = pd.DataFrame(data)\n",
    "print(\"Original DataFrame:\")\n",
    "print(df)\n",
    "\n",
    "# Define a function to count the number of words in a string\n",
    "def count_words(text):\n",
    "    return len(text.split())\n",
    "\n",
    "# Apply the function to the 'Text' column\n",
    "df['Word_Count'] = df['Text'].apply(count_words)\n",
    "\n",
    "print(\"\\nDataFrame with 'Word_Count' column:\")\n",
    "print(df)\n",
    "\n",
    "\n",
    "# other method using lambda\n",
    "\n",
    "data1 = {\n",
    "    'Text': ['Hello world', 'This is a test', 'Pandas is great', 'Data Science is fun']\n",
    "}\n",
    "df1 = pd.DataFrame(data1)\n",
    "\n",
    "def count_words1(df):\n",
    "    df1[\"new_column\"] = df1[\"Text\"].apply(lambda x : len(x.split()))\n",
    "    return df\n",
    "\n",
    "print(count_words1(df1))\n"
   ]
  },
  {
   "cell_type": "code",
   "execution_count": 20,
   "metadata": {},
   "outputs": [
    {
     "name": "stdout",
     "output_type": "stream",
     "text": [
      "DataFrame.size: 9\n",
      "DataFrame.shape: (3, 3)\n"
     ]
    }
   ],
   "source": [
    "'''Q5. How are DataFrame.size() and DataFrame.shape() different?'''\n",
    "\n",
    "import pandas as pd\n",
    "\n",
    "# Sample DataFrame\n",
    "data = {\n",
    "    'A': [1, 2, 3],\n",
    "    'B': [4, 5, 6],\n",
    "    'C': [7, 8, 9]\n",
    "}\n",
    "\n",
    "df = pd.DataFrame(data)\n",
    "\n",
    "# Using DataFrame.size\n",
    "total_elements = df.size\n",
    "print(\"DataFrame.size:\", total_elements)\n",
    "\n",
    "# Using DataFrame.shape\n",
    "shape = df.shape\n",
    "print(\"DataFrame.shape:\", shape)\n"
   ]
  },
  {
   "cell_type": "markdown",
   "metadata": {},
   "source": [
    "### Understanding DataFrame.size and DataFrame.shape\n",
    "\n",
    "#### <small>DataFrame.size</small>\n",
    "\n",
    "- **Definition**: Returns the total number of elements in the DataFrame.\n",
    "- **Type**: Integer.\n",
    "- **Calculation**: This is computed as the number of rows multiplied by the number of columns.\n",
    "\n",
    "#### <small>DataFrame.shape</small>\n",
    "\n",
    "- **Definition**: Returns a tuple representing the dimensionality of the DataFrame.\n",
    "- **Type**: Tuple.\n",
    "- **Calculation**: The first element of the tuple is the number of rows, and the second element is the number of columns.\n"
   ]
  },
  {
   "cell_type": "code",
   "execution_count": null,
   "metadata": {},
   "outputs": [],
   "source": [
    "'''Q6. Which function of pandas do we use to read an excel file?'''\n",
    "\n",
    "pd.read_excel(\n",
    "    io, \n",
    "    sheet_name=0, \n",
    "    header=0, \n",
    "    names=None, \n",
    "    index_col=None, \n",
    "    usecols=None, \n",
    "    engine=None, \n",
    "    converters=None, \n",
    "    dtype=None, \n",
    "    skiprows=None, \n",
    "    nrows=None, \n",
    "    na_values=None, \n",
    "    keep_default_na=True, \n",
    "    verbose=False, \n",
    "    parse_dates=False, \n",
    "    date_parser=None, \n",
    "    thousands=None, \n",
    "    convert_float=True, \n",
    "    sheet_name='Sheet1'\n",
    ")\n",
    "'"
   ]
  },
  {
   "cell_type": "markdown",
   "metadata": {},
   "source": [
    "### Key Parameters of `pd.read_excel()`\n",
    "\n",
    "The `pd.read_excel()` function is used to read data from an Excel file into a Pandas DataFrame. Here are some key parameters you can use:\n",
    "\n",
    "- **`io`**: \n",
    "  - **Definition**: The file path or buffer object to read the Excel file from.\n",
    "  - **Type**: String (path to the file) or file-like object.\n",
    "\n",
    "- **`sheet_name`**: \n",
    "  - **Definition**: The name or index of the sheet to read. You can specify the sheet by name or index (0 for the first sheet). You can also pass a list of names or indexes to read multiple sheets.\n",
    "  - **Type**: String (sheet name), integer (sheet index), or list of strings/integers.\n",
    "\n",
    "- **`header`**: \n",
    "  - **Definition**: The row number(s) to use as the column names. Default is `0`, which means the first row is used.\n",
    "  - **Type**: Integer or list of integers.\n",
    "\n",
    "- **`index_col`**: \n",
    "  - **Definition**: Column(s) to set as the index.\n",
    "  - **Type**: Integer, string, or list of integers/strings.\n",
    "\n",
    "- **`usecols`**: \n",
    "  - **Definition**: Columns to read. Can be specified by column names or indices.\n",
    "  - **Type**: String, list of strings, integer, or list of integers.\n",
    "\n",
    "- **`dtype`**: \n",
    "  - **Definition**: Data type for the resulting DataFrame.\n",
    "  - **Type**: Dictionary with column names as keys and data types as values.\n"
   ]
  },
  {
   "cell_type": "code",
   "execution_count": 4,
   "metadata": {},
   "outputs": [
    {
     "name": "stdout",
     "output_type": "stream",
     "text": [
      "                email\n",
      "0   alice@example.com\n",
      "1     bob@example.org\n",
      "2  charlie@domain.net\n",
      "                email username\n",
      "0   alice@example.com    alice\n",
      "1     bob@example.org      bob\n",
      "2  charlie@domain.net  charlie\n"
     ]
    }
   ],
   "source": [
    "'''Q7. You have a Pandas DataFrame df that contains a column named 'Email' that contains email\n",
    "addresses in the format 'username@domain.com'. Write a Python function that creates a new column\n",
    "'Username' in df that contains only the username part of each email address. '''\n",
    "\n",
    "import pandas as pd\n",
    "\n",
    "# Sample DataFrame\n",
    "data = {\n",
    "    'email': ['alice@example.com', 'bob@example.org', 'charlie@domain.net']\n",
    "}\n",
    "\n",
    "df = pd.DataFrame(data)\n",
    "print(df)\n",
    "\n",
    "def extact_name(email):\n",
    "    return email.split(\"@\")[0]  #split() return function , so the 0th value is before @ \n",
    "\n",
    "df[\"username\"] = df[\"email\"].apply(extact_name)\n",
    "print(df)"
   ]
  },
  {
   "cell_type": "code",
   "execution_count": 11,
   "metadata": {},
   "outputs": [
    {
     "name": "stdout",
     "output_type": "stream",
     "text": [
      "   A  B  C\n",
      "0  3  5  1\n",
      "1  8  2  7\n",
      "2  6  9  4\n",
      "3  2  3  5\n",
      "4  9  1  2\n"
     ]
    }
   ],
   "source": [
    "'''Q8. You have a Pandas DataFrame df with columns 'A', 'B', and 'C'. Write a Python function that selects\n",
    "all rows where the value in column 'A' is greater than 5 and the value in column 'B' is less than 10. The\n",
    "function should return a new DataFrame that contains only the selected rows.\n",
    "For example, if df contains the following values:\n",
    "A B C\n",
    "0 3 5 1\n",
    "1 8 2 7\n",
    "2 6 9 4\n",
    "3 2 3 5\n",
    "4 9 1 2 '''\n",
    "\n",
    "\n",
    "# Create the DataFrame\n",
    "data = {\n",
    "    'A': [3, 8, 6, 2, 9],\n",
    "    'B': [5, 2, 9, 3, 1],\n",
    "    'C': [1, 7, 4, 5, 2]\n",
    "}\n",
    "\n",
    "df = pd.DataFrame(data)\n",
    "print(df)\n",
    "\n"
   ]
  },
  {
   "cell_type": "code",
   "execution_count": 12,
   "metadata": {},
   "outputs": [
    {
     "data": {
      "text/html": [
       "<div>\n",
       "<style scoped>\n",
       "    .dataframe tbody tr th:only-of-type {\n",
       "        vertical-align: middle;\n",
       "    }\n",
       "\n",
       "    .dataframe tbody tr th {\n",
       "        vertical-align: top;\n",
       "    }\n",
       "\n",
       "    .dataframe thead th {\n",
       "        text-align: right;\n",
       "    }\n",
       "</style>\n",
       "<table border=\"1\" class=\"dataframe\">\n",
       "  <thead>\n",
       "    <tr style=\"text-align: right;\">\n",
       "      <th></th>\n",
       "      <th>A</th>\n",
       "      <th>B</th>\n",
       "      <th>C</th>\n",
       "    </tr>\n",
       "  </thead>\n",
       "  <tbody>\n",
       "    <tr>\n",
       "      <th>2</th>\n",
       "      <td>6</td>\n",
       "      <td>9</td>\n",
       "      <td>4</td>\n",
       "    </tr>\n",
       "  </tbody>\n",
       "</table>\n",
       "</div>"
      ],
      "text/plain": [
       "   A  B  C\n",
       "2  6  9  4"
      ]
     },
     "execution_count": 12,
     "metadata": {},
     "output_type": "execute_result"
    }
   ],
   "source": [
    "df[(df['A'] > 5) & (df['B'] > 5)]"
   ]
  },
  {
   "cell_type": "code",
   "execution_count": 13,
   "metadata": {},
   "outputs": [
    {
     "data": {
      "text/plain": [
       "6.0"
      ]
     },
     "execution_count": 13,
     "metadata": {},
     "output_type": "execute_result"
    }
   ],
   "source": []
  },
  {
   "cell_type": "code",
   "execution_count": 16,
   "metadata": {},
   "outputs": [
    {
     "name": "stdout",
     "output_type": "stream",
     "text": [
      "Mean : 5.6\n",
      "median :  6.0\n",
      "std :  3.0495901363953815\n"
     ]
    }
   ],
   "source": [
    "'''Q9. Given a Pandas DataFrame df with a column 'Values', write a Python function to calculate the mean,\n",
    "median, and standard deviation of the values in the 'Values' column.'''\n",
    "\n",
    "\n",
    "\n",
    "data = {\n",
    "    'values': [3, 8, 6, 2, 9]\n",
    "}\n",
    "\n",
    "df = pd.DataFrame(data)\n",
    "\n",
    "def central_tendencies(df) :\n",
    "    mean = df[\"values\"].mean()\n",
    "    median = df[\"values\"].median()\n",
    "    std = df[\"values\"].std()\n",
    "    return mean,median,std\n",
    "\n",
    "mean,median,std = central_tendencies(df)\n",
    "print(\"Mean :\",mean)\n",
    "print(\"median : \", median)\n",
    "print(\"std : \",std)"
   ]
  },
  {
   "cell_type": "code",
   "execution_count": 17,
   "metadata": {},
   "outputs": [
    {
     "data": {
      "text/plain": [
       "DatetimeIndex(['2023-01-01', '2023-01-02', '2023-01-03', '2023-01-04',\n",
       "               '2023-01-05', '2023-01-06', '2023-01-07', '2023-01-08',\n",
       "               '2023-01-09', '2023-01-10'],\n",
       "              dtype='datetime64[ns]', freq='D')"
      ]
     },
     "execution_count": 17,
     "metadata": {},
     "output_type": "execute_result"
    }
   ],
   "source": [
    "pd.date_range(start='2023-01-01', periods=10, freq='D')"
   ]
  },
  {
   "cell_type": "code",
   "execution_count": 18,
   "metadata": {},
   "outputs": [
    {
     "name": "stdout",
     "output_type": "stream",
     "text": [
      "        Date  Sales  MovingAverage\n",
      "0 2023-01-01    100          100.0\n",
      "1 2023-01-02    150          125.0\n",
      "2 2023-01-03    200          150.0\n",
      "3 2023-01-04    250          175.0\n",
      "4 2023-01-05    300          200.0\n",
      "5 2023-01-06    350          225.0\n",
      "6 2023-01-07    400          250.0\n",
      "7 2023-01-08    450          300.0\n",
      "8 2023-01-09    500          350.0\n",
      "9 2023-01-10    550          400.0\n"
     ]
    }
   ],
   "source": [
    "'''Q10. Given a Pandas DataFrame df with a column 'Sales' and a column 'Date', write a Python function to\n",
    "create a new column 'MovingAverage' that contains the moving average of the sales for the past 7 days\n",
    "for each row in the DataFrame. The moving average should be calculated using a window of size 7 and\n",
    "should include the current day.'''\n",
    "\n",
    "import pandas as pd\n",
    "\n",
    "# Sample DataFrame\n",
    "data = {\n",
    "    'Date': pd.date_range(start='2023-01-01', periods=10, freq='D'),\n",
    "    'Sales': [100, 150, 200, 250, 300, 350, 400, 450, 500, 550]\n",
    "}\n",
    "\n",
    "df = pd.DataFrame(data)\n",
    "\n",
    "def add_moving_average(df, column_name, window_size=7):\n",
    "    \"\"\"\n",
    "    Add a column to the DataFrame with the moving average of the specified column.\n",
    "\n",
    "    Parameters:\n",
    "    df (pd.DataFrame): DataFrame containing the data.\n",
    "    column_name (str): Name of the column for which to calculate the moving average.\n",
    "    window_size (int): Size of the moving average window. Default is 7.\n",
    "\n",
    "    Returns:\n",
    "    pd.DataFrame: DataFrame with the new 'MovingAverage' column.\n",
    "    \"\"\"\n",
    "    df['MovingAverage'] = df[column_name].rolling(window=window_size, min_periods=1).mean()\n",
    "    return df\n",
    "\n",
    "# Add the moving average column\n",
    "df = add_moving_average(df, 'Sales')\n",
    "\n",
    "print(df)\n"
   ]
  },
  {
   "cell_type": "markdown",
   "metadata": {},
   "source": [
    "df[column_name].rolling(window=window_size, min_periods=1).mean() calculates the rolling mean (moving average) of the specified column over the given window size. The min_periods=1 argument ensures that the function calculates the mean even if there are fewer than 7 values at the start of the series."
   ]
  },
  {
   "cell_type": "code",
   "execution_count": 19,
   "metadata": {},
   "outputs": [
    {
     "name": "stdout",
     "output_type": "stream",
     "text": [
      "        Date    Weekday\n",
      "0 2023-01-01     Sunday\n",
      "1 2023-01-02     Monday\n",
      "2 2023-01-03    Tuesday\n",
      "3 2023-01-04  Wednesday\n",
      "4 2023-01-05   Thursday\n"
     ]
    }
   ],
   "source": [
    "'''Q11. You have a Pandas DataFrame df with a column 'Date'. Write a Python function that creates a new\n",
    "column 'Weekday' in the DataFrame. The 'Weekday' column should contain the weekday name (e.g.\n",
    "Monday, Tuesday) corresponding to each date in the 'Date' column.\n",
    "For example, if df contains the following values:\n",
    "Date\n",
    "0 2023-01-01\n",
    "1 2023-01-02\n",
    "2 2023-01-03\n",
    "3 2023-01-04\n",
    "4 2023-01-05\n",
    "Your function should create the following DataFrame:\n",
    "\n",
    "Date Weekday\n",
    "0 2023-01-01 Sunday\n",
    "1 2023-01-02 Monday\n",
    "2 2023-01-03 Tuesday\n",
    "3 2023-01-04 Wednesday\n",
    "4 2023-01-05 Thursday\n",
    "The function should return the modified DataFrame.'''\n",
    "\n",
    "import pandas as pd\n",
    "\n",
    "# Sample DataFrame\n",
    "data = {\n",
    "    'Date': pd.date_range(start='2023-01-01', periods=5, freq='D')\n",
    "}\n",
    "\n",
    "df = pd.DataFrame(data)\n",
    "\n",
    "def add_weekday_column(df, date_column):\n",
    "    \"\"\"\n",
    "    Add a column to the DataFrame with the weekday name for each date.\n",
    "\n",
    "    Parameters:\n",
    "    df (pd.DataFrame): DataFrame containing the data.\n",
    "    date_column (str): Name of the column containing dates.\n",
    "\n",
    "    Returns:\n",
    "    pd.DataFrame: DataFrame with the new 'Weekday' column.\n",
    "    \"\"\"\n",
    "    df['Weekday'] = df[date_column].dt.day_name()\n",
    "    return df\n",
    "\n",
    "# Add the weekday column\n",
    "df = add_weekday_column(df, 'Date')\n",
    "\n",
    "print(df)\n"
   ]
  },
  {
   "cell_type": "code",
   "execution_count": 20,
   "metadata": {},
   "outputs": [
    {
     "name": "stdout",
     "output_type": "stream",
     "text": [
      "        Date  Values\n",
      "7 2023-01-01       7\n",
      "8 2023-01-02       8\n",
      "9 2023-01-03       9\n"
     ]
    }
   ],
   "source": [
    "'''Q12. Given a Pandas DataFrame df with a column 'Date' that contains timestamps, write a Python\n",
    "function to select all rows where the date is between '2023-01-01' and '2023-01-31'.'''\n",
    "\n",
    "import pandas as pd\n",
    "\n",
    "# Sample DataFrame with timestamp data\n",
    "data = {\n",
    "    'Date': pd.date_range(start='2022-12-25', periods=10, freq='D'),\n",
    "    'Values': range(10)\n",
    "}\n",
    "\n",
    "df = pd.DataFrame(data)\n",
    "\n",
    "def select_dates_between(df, date_column, start_date, end_date):\n",
    "    \"\"\"\n",
    "    Select all rows where the date is between the specified start and end dates.\n",
    "\n",
    "    Parameters:\n",
    "    df (pd.DataFrame): DataFrame containing the data.\n",
    "    date_column (str): Name of the column containing dates.\n",
    "    start_date (str): The start date in 'YYYY-MM-DD' format.\n",
    "    end_date (str): The end date in 'YYYY-MM-DD' format.\n",
    "\n",
    "    Returns:\n",
    "    pd.DataFrame: DataFrame with rows where the date is between the start and end dates.\n",
    "    \"\"\"\n",
    "    mask = (df[date_column] >= start_date) & (df[date_column] <= end_date)\n",
    "    return df[mask]\n",
    "\n",
    "# Select rows where the date is between '2023-01-01' and '2023-01-31'\n",
    "filtered_df = select_dates_between(df, 'Date', '2023-01-01', '2023-01-31')\n",
    "\n",
    "print(filtered_df)\n"
   ]
  },
  {
   "cell_type": "markdown",
   "metadata": {},
   "source": [
    "'''Q13. To use the basic functions of pandas, what is the first and foremost necessary library that needs to\n",
    "be imported?'''\n",
    "\n",
    "The first and foremost necessary library that needs to be imported to use the basic functions of pandas is the `pandas` library itself. Typically, it is imported with the alias `pd`. Additionally, if you are working with numerical data or performing numerical operations, it's common to also import the `numpy` library with the alias `np`.\n",
    "\n",
    "Here’s how you typically start a pandas script:\n",
    "\n",
    "### Example\n",
    "\n",
    "```python\n",
    "import pandas as pd\n",
    "import numpy as np  # Optional, but commonly used with pandas\n",
    "\n",
    "# Now you can use pandas functions with the pd alias\n",
    "df = pd.DataFrame({'A': [1, 2, 3], 'B': [4, 5, 6]})\n",
    "print(df)\n",
    "```\n",
    "\n",
    "### Explanation\n",
    "\n",
    "- `import pandas as pd`: This imports the pandas library and allows you to use the alias `pd` to refer to it. This is a standard convention in the Python data science community.\n",
    "- `import numpy as np`: While not strictly necessary for basic pandas functionality, `numpy` is often used in conjunction with pandas for numerical operations and array manipulations.\n",
    "\n",
    "By importing pandas with the `pd` alias, you can easily access and utilize all of the powerful data manipulation and analysis tools provided by the pandas library."
   ]
  }
 ],
 "metadata": {
  "kernelspec": {
   "display_name": "Python 3",
   "language": "python",
   "name": "python3"
  },
  "language_info": {
   "codemirror_mode": {
    "name": "ipython",
    "version": 3
   },
   "file_extension": ".py",
   "mimetype": "text/x-python",
   "name": "python",
   "nbconvert_exporter": "python",
   "pygments_lexer": "ipython3",
   "version": "3.11.2"
  }
 },
 "nbformat": 4,
 "nbformat_minor": 2
}
