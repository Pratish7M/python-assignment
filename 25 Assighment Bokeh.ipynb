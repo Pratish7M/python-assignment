{
 "cells": [
  {
   "cell_type": "markdown",
   "id": "bbb9a029",
   "metadata": {},
   "source": [
    "# Data Science Masters Assignment 4 - Bokeh"
   ]
  },
  {
   "cell_type": "markdown",
   "id": "3c0aaf47",
   "metadata": {},
   "source": [
    "## Q1: How to Create a Bokeh Plot using Python?\n",
    "Bokeh is a Python library used for creating interactive visualizations.\n",
    "\n",
    "**Example:**\n",
    "The code below creates a simple scatter plot using Bokeh."
   ]
  },
  {
   "cell_type": "code",
   "execution_count": null,
   "id": "0be1f2ee",
   "metadata": {},
   "outputs": [],
   "source": [
    "from bokeh.plotting import figure, output_file, show\n",
    "\n",
    "output_file('bokeh_plot.html')\n",
    "p = figure(title='Simple Bokeh Plot', x_axis_label='X', y_axis_label='Y')\n",
    "p.circle([1, 2, 3, 4, 5], [6, 7, 2, 4, 5], size=10, color='navy', alpha=0.5)\n",
    "show(p)"
   ]
  },
  {
   "cell_type": "markdown",
   "id": "fb16c37b",
   "metadata": {},
   "source": [
    "## Q2: What are Glyphs in Bokeh?\n",
    "Glyphs are basic visual elements like circles, squares, lines, and rectangles in Bokeh plots.\n",
    "\n",
    "**Example:** Adding glyphs to a plot."
   ]
  },
  {
   "cell_type": "code",
   "execution_count": null,
   "id": "1cb85c44",
   "metadata": {},
   "outputs": [],
   "source": [
    "p = figure(title='Glyph Example')\n",
    "p.line([1, 2, 3, 4], [10, 20, 30, 40], line_width=2)\n",
    "p.circle([1, 2, 3, 4], [10, 20, 30, 40], size=8, color='red')\n",
    "show(p)"
   ]
  },
  {
   "cell_type": "markdown",
   "id": "58ed4190",
   "metadata": {},
   "source": [
    "## Q3: Customizing Bokeh Plot Appearance\n",
    "You can customize:\n",
    "- **Axes**: Change labels, range, and formatting.\n",
    "- **Title**: Set font, size, and color.\n",
    "- **Legend**: Modify position and background."
   ]
  },
  {
   "cell_type": "code",
   "execution_count": null,
   "id": "75d34d09",
   "metadata": {},
   "outputs": [],
   "source": [
    "p = figure(title='Customized Bokeh Plot')\n",
    "p.line([1, 2, 3, 4], [10, 15, 25, 30], legend_label='Line', line_width=2, color='green')\n",
    "p.xaxis.axis_label = 'X Axis'\n",
    "p.yaxis.axis_label = 'Y Axis'\n",
    "p.legend.title = 'Legend'\n",
    "p.title.text_font_size = '16pt'\n",
    "show(p)"
   ]
  },
  {
   "cell_type": "markdown",
   "id": "cc55e8a9",
   "metadata": {},
   "source": [
    "## Q4: What is Bokeh Server?\n",
    "Bokeh Server allows real-time updates and interactive plots using Python callbacks.\n",
    "\n",
    "**Steps to Use:**\n",
    "1. Install Bokeh: `pip install bokeh`\n",
    "2. Create a Python script (`app.py`).\n",
    "3. Run `bokeh serve --show app.py`.\n",
    "\n",
    "**Example Code:**"
   ]
  },
  {
   "cell_type": "code",
   "execution_count": null,
   "id": "d5e06e39",
   "metadata": {},
   "outputs": [],
   "source": [
    "from bokeh.io import curdoc\n",
    "from bokeh.models import ColumnDataSource\n",
    "from bokeh.plotting import figure\n",
    "from bokeh.layouts import column\n",
    "import numpy as np\n",
    "\n",
    "source = ColumnDataSource(data={'x': [], 'y': []})\n",
    "p = figure(title='Real-Time Update', x_axis_label='X', y_axis_label='Y')\n",
    "p.line('x', 'y', source=source, line_width=2)\n",
    "\n",
    "def update():\n",
    "    new_data = {'x': [np.random.rand()], 'y': [np.random.rand()]}\n",
    "    source.stream(new_data, rollover=50)\n",
    "\n",
    "curdoc().add_root(column(p))\n",
    "curdoc().add_periodic_callback(update, 1000)"
   ]
  },
  {
   "cell_type": "markdown",
   "id": "79ce45bb",
   "metadata": {},
   "source": [
    "## Q5: Embedding Bokeh Plot into Flask or Django\n",
    "Bokeh plots can be embedded into web applications.\n",
    "\n",
    "**Flask Example:**\n",
    "1. Install Flask: `pip install flask`\n",
    "2. Create a Flask app (`app.py`).\n",
    "3. Render a Bokeh plot in an HTML template.\n",
    "\n",
    "**Django Example:**\n",
    "1. Install Django: `pip install django`\n",
    "2. Create a Django view and template to embed the Bokeh script."
   ]
  }
 ],
 "metadata": {},
 "nbformat": 4,
 "nbformat_minor": 5
}
