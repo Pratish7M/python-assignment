{
 "cells": [
  {
   "cell_type": "markdown",
   "id": "f588aaf0",
   "metadata": {},
   "source": [
    "# Data Science Masters Assignment 2"
   ]
  },
  {
   "cell_type": "markdown",
   "id": "71060b90",
   "metadata": {},
   "source": [
    "## Q1: What are the Probability Mass Function (PMF) and Probability Density Function (PDF)?\n",
    "**PMF (Probability Mass Function):** Defines the probability of a discrete random variable taking a specific value.\n",
    "\n",
    "**PDF (Probability Density Function):** Defines the probability distribution of a continuous random variable.\n",
    "\n",
    "**Example:**\n",
    "- PMF: Probability of rolling a 3 on a fair die.\n",
    "- PDF: Height distribution of people."
   ]
  },
  {
   "cell_type": "markdown",
   "id": "11b6609d",
   "metadata": {},
   "source": [
    "## Q2: What is Cumulative Density Function (CDF)? Why is it used?\n",
    "**CDF (Cumulative Distribution Function):** The probability that a random variable takes a value less than or equal to a given number.\n",
    "\n",
    "**Example:**\n",
    "In a class of 100 students, if 30 students scored ≤ 60, then CDF(60) = 0.30 (30% of students scored ≤ 60).\n",
    "\n",
    "**Usage:** Helps in probability calculations, statistical inference, and hypothesis testing."
   ]
  },
  {
   "cell_type": "markdown",
   "id": "7c2ab188",
   "metadata": {},
   "source": [
    "## Q3: Examples of Normal Distribution and its Parameters\n",
    "**Examples:**\n",
    "- Heights of people\n",
    "- Test scores\n",
    "- IQ scores\n",
    "\n",
    "**Parameters:**\n",
    "- Mean (μ): Determines center of the distribution.\n",
    "- Standard Deviation (σ): Controls spread of the distribution.\n",
    "  - Higher σ → Wider distribution.\n",
    "  - Lower σ → Narrower distribution."
   ]
  },
  {
   "cell_type": "markdown",
   "id": "9361c60b",
   "metadata": {},
   "source": [
    "## Q4: Importance and Real-Life Examples of Normal Distribution\n",
    "**Importance:**\n",
    "- Used in statistical analysis.\n",
    "- Basis for inferential statistics.\n",
    "- Central Limit Theorem foundation.\n",
    "\n",
    "**Real-life Examples:**\n",
    "- Blood pressure levels.\n",
    "- Weight of newborn babies.\n",
    "- SAT scores."
   ]
  },
  {
   "cell_type": "markdown",
   "id": "ca4308a6",
   "metadata": {},
   "source": [
    "## Q5: Bernoulli Distribution and Difference from Binomial Distribution\n",
    "**Bernoulli Distribution:** Describes a single trial with two outcomes: success (1) or failure (0).\n",
    "\n",
    "**Example:** Flipping a fair coin (Heads = 1, Tails = 0).\n",
    "\n",
    "**Difference:**\n",
    "- Bernoulli: Single trial.\n",
    "- Binomial: Multiple independent Bernoulli trials."
   ]
  },
  {
   "cell_type": "markdown",
   "id": "f315154b",
   "metadata": {},
   "source": [
    "## Q6: Probability of Selecting an Observation Greater than 60\n",
    "**Given:** Mean (μ) = 50, Standard Deviation (σ) = 10, X = 60\n",
    "\n",
    "Using Z-score formula:\n",
    "\\[ Z = \\frac{X - \\mu}{\\sigma} = \\frac{60 - 50}{10} = 1 \\]\n",
    "From standard normal table, P(Z > 1) = 0.1587\n",
    "\n",
    "**Probability of selecting observation > 60 = 15.87%**"
   ]
  },
  {
   "cell_type": "code",
   "execution_count": null,
   "id": "2e64e52f",
   "metadata": {},
   "outputs": [],
   "source": [
    "import scipy.stats as stats\n",
    "\n",
    "mean = 50\n",
    "std_dev = 10\n",
    "x = 60\n",
    "z_score = (x - mean) / std_dev\n",
    "prob = 1 - stats.norm.cdf(z_score)\n",
    "print(f'Probability: {prob:.4f}')"
   ]
  },
  {
   "cell_type": "markdown",
   "id": "1b4ce226",
   "metadata": {},
   "source": [
    "## Q7: Explanation of Uniform Distribution with an Example\n",
    "**Uniform Distribution:** A probability distribution where all outcomes are equally likely.\n",
    "\n",
    "**Example:** Rolling a fair die (each number has a 1/6 probability)."
   ]
  },
  {
   "cell_type": "markdown",
   "id": "f7e44704",
   "metadata": {},
   "source": [
    "## Q8: What is the Z-score and Its Importance?\n",
    "**Z-score:** Measures how many standard deviations an observation is from the mean.\n",
    "\n",
    "**Importance:**\n",
    "- Standardizes different datasets.\n",
    "- Helps in outlier detection.\n",
    "- Used in hypothesis testing."
   ]
  },
  {
   "cell_type": "markdown",
   "id": "b56a5f88",
   "metadata": {},
   "source": [
    "## Q9: Central Limit Theorem (CLT) and Its Significance\n",
    "**CLT Statement:**\n",
    "For a sufficiently large sample size, the sampling distribution of the sample mean approaches a normal distribution, regardless of the population's original distribution.\n",
    "\n",
    "**Significance:**\n",
    "- Justifies normal approximation in statistical inference.\n",
    "- Helps estimate population parameters using sample data."
   ]
  },
  {
   "cell_type": "markdown",
   "id": "b74508c2",
   "metadata": {},
   "source": [
    "## Q10: Assumptions of Central Limit Theorem\n",
    "- Random sampling.\n",
    "- Independent observations.\n",
    "- Large enough sample size (n > 30 preferred)."
   ]
  }
 ],
 "metadata": {},
 "nbformat": 4,
 "nbformat_minor": 5
}
