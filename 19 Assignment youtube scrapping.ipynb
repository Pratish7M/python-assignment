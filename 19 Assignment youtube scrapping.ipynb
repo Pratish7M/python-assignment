{
 "cells": [
  {
   "cell_type": "code",
   "execution_count": null,
   "metadata": {},
   "outputs": [],
   "source": [
    "from googleapiclient.discovery import build\n",
    "\n",
    "def get_first_four_videos(api_key, channel_id):\n",
    "    youtube = build('youtube', 'v3', developerKey=api_key)\n",
    "\n",
    "    # Get the uploads playlist ID\n",
    "    channel_response = youtube.channels().list(\n",
    "        part='contentDetails',\n",
    "        id=channel_id\n",
    "    ).execute()\n",
    "\n",
    "    uploads_playlist_id = channel_response['items'][0]['contentDetails']['relatedPlaylists']['uploads']\n",
    "\n",
    "    # Get the first four videos from the uploads playlist\n",
    "    playlist_response = youtube.playlistItems().list(\n",
    "        part='snippet',\n",
    "        playlistId=uploads_playlist_id,\n",
    "        maxResults=4\n",
    "    ).execute()\n",
    "\n",
    "    videos = []\n",
    "    for item in playlist_response['items']:\n",
    "        video_data = {\n",
    "            'title': item['snippet']['title'],\n",
    "            'videoId': item['snippet']['resourceId']['videoId'],\n",
    "            'publishedAt': item['snippet']['publishedAt'],\n",
    "            'description': item['snippet']['description']\n",
    "        }\n",
    "        videos.append(video_data)\n",
    "\n",
    "    return videos\n",
    "\n",
    "if __name__ == \"__main__\":\n",
    "    API_KEY = 'YOUR_API_KEY'\n",
    "    CHANNEL_ID = '@PW-Foundation'\n",
    "\n",
    "    first_four_videos = get_first_four_videos(API_KEY, )\n",
    "    for idx, video in enumerate(first_four_videos, start=1):\n",
    "        print(f\"Video {idx}:\")\n",
    "        print(f\"  Title: {video['title']}\")\n",
    "        print(f\"  Video ID: {video['videoId']}\")\n",
    "        print(f\"  Published At: {video['publishedAt']}\")\n",
    "        print(f\"  Description: {video['description']}\\n\")\n"
   ]
  }
 ],
 "metadata": {
  "language_info": {
   "name": "python"
  }
 },
 "nbformat": 4,
 "nbformat_minor": 2
}
